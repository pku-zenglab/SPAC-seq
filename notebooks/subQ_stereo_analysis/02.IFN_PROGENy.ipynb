{
 "cells": [
  {
   "cell_type": "code",
   "execution_count": 1,
   "metadata": {},
   "outputs": [],
   "source": [
    "import scanpy as sc\n",
    "import decoupler as dc"
   ]
  },
  {
   "cell_type": "code",
   "execution_count": 3,
   "metadata": {},
   "outputs": [],
   "source": [
    "fdata = sc.read_h5ad('./RNA/B03502E5.clustered.h5')"
   ]
  },
  {
   "cell_type": "code",
   "execution_count": 6,
   "metadata": {},
   "outputs": [
    {
     "ename": "KeyboardInterrupt",
     "evalue": "",
     "output_type": "error",
     "traceback": [
      "\u001b[0;31m---------------------------------------------------------------------------\u001b[0m",
      "\u001b[0;31mKeyboardInterrupt\u001b[0m                         Traceback (most recent call last)",
      "File \u001b[0;32m~/miniconda3/envs/scanpy/lib/python3.12/site-packages/pypath/share/curl.py:1535\u001b[0m, in \u001b[0;36mCurl.update_progress\u001b[0;34m(self, download_total, downloaded, upload_total, uploaded)\u001b[0m\n\u001b[1;32m   1531\u001b[0m             \u001b[38;5;28mself\u001b[39m\u001b[38;5;241m.\u001b[39mjsessionid \u001b[38;5;241m=\u001b[39m [\u001b[38;5;124mu\u001b[39m\u001b[38;5;124m'\u001b[39m\u001b[38;5;124mCookie: \u001b[39m\u001b[38;5;132;01m%s\u001b[39;00m\u001b[38;5;124m'\u001b[39m \u001b[38;5;241m%\u001b[39m jsess[\u001b[38;5;241m0\u001b[39m]]\n\u001b[1;32m   1533\u001b[0m     \u001b[38;5;28;01mreturn\u001b[39;00m \u001b[38;5;28mself\u001b[39m\u001b[38;5;241m.\u001b[39mjsessionid\n\u001b[0;32m-> 1535\u001b[0m \u001b[38;5;28;01mdef\u001b[39;00m \u001b[38;5;21mupdate_progress\u001b[39m(\u001b[38;5;28mself\u001b[39m, download_total, downloaded, upload_total,\n\u001b[1;32m   1536\u001b[0m                     uploaded):\n\u001b[1;32m   1537\u001b[0m     \u001b[38;5;28;01mif\u001b[39;00m \u001b[38;5;28mself\u001b[39m\u001b[38;5;241m.\u001b[39mprogress \u001b[38;5;129;01mis\u001b[39;00m \u001b[38;5;129;01mnot\u001b[39;00m \u001b[38;5;28;01mNone\u001b[39;00m:\n\u001b[1;32m   1538\u001b[0m         \u001b[38;5;28mself\u001b[39m\u001b[38;5;241m.\u001b[39mtotal \u001b[38;5;241m=\u001b[39m \u001b[38;5;28mself\u001b[39m\u001b[38;5;241m.\u001b[39mbytes_prefix(download_total)\n",
      "\u001b[0;31mKeyboardInterrupt\u001b[0m: "
     ]
    },
    {
     "ename": "KeyboardInterrupt",
     "evalue": "",
     "output_type": "error",
     "traceback": [
      "\u001b[0;31m---------------------------------------------------------------------------\u001b[0m",
      "\u001b[0;31mKeyboardInterrupt\u001b[0m                         Traceback (most recent call last)",
      "File \u001b[0;32m~/miniconda3/envs/scanpy/lib/python3.12/site-packages/pypath/share/curl.py:1535\u001b[0m, in \u001b[0;36mCurl.update_progress\u001b[0;34m(self, download_total, downloaded, upload_total, uploaded)\u001b[0m\n\u001b[1;32m   1531\u001b[0m             \u001b[38;5;28mself\u001b[39m\u001b[38;5;241m.\u001b[39mjsessionid \u001b[38;5;241m=\u001b[39m [\u001b[38;5;124mu\u001b[39m\u001b[38;5;124m'\u001b[39m\u001b[38;5;124mCookie: \u001b[39m\u001b[38;5;132;01m%s\u001b[39;00m\u001b[38;5;124m'\u001b[39m \u001b[38;5;241m%\u001b[39m jsess[\u001b[38;5;241m0\u001b[39m]]\n\u001b[1;32m   1533\u001b[0m     \u001b[38;5;28;01mreturn\u001b[39;00m \u001b[38;5;28mself\u001b[39m\u001b[38;5;241m.\u001b[39mjsessionid\n\u001b[0;32m-> 1535\u001b[0m \u001b[38;5;28;01mdef\u001b[39;00m \u001b[38;5;21mupdate_progress\u001b[39m(\u001b[38;5;28mself\u001b[39m, download_total, downloaded, upload_total,\n\u001b[1;32m   1536\u001b[0m                     uploaded):\n\u001b[1;32m   1537\u001b[0m     \u001b[38;5;28;01mif\u001b[39;00m \u001b[38;5;28mself\u001b[39m\u001b[38;5;241m.\u001b[39mprogress \u001b[38;5;129;01mis\u001b[39;00m \u001b[38;5;129;01mnot\u001b[39;00m \u001b[38;5;28;01mNone\u001b[39;00m:\n\u001b[1;32m   1538\u001b[0m         \u001b[38;5;28mself\u001b[39m\u001b[38;5;241m.\u001b[39mtotal \u001b[38;5;241m=\u001b[39m \u001b[38;5;28mself\u001b[39m\u001b[38;5;241m.\u001b[39mbytes_prefix(download_total)\n",
      "\u001b[0;31mKeyboardInterrupt\u001b[0m: "
     ]
    },
    {
     "ename": "KeyboardInterrupt",
     "evalue": "",
     "output_type": "error",
     "traceback": [
      "\u001b[0;31m---------------------------------------------------------------------------\u001b[0m",
      "\u001b[0;31mKeyboardInterrupt\u001b[0m                         Traceback (most recent call last)",
      "File \u001b[0;32m~/miniconda3/envs/scanpy/lib/python3.12/site-packages/pypath/share/curl.py:1535\u001b[0m, in \u001b[0;36mCurl.update_progress\u001b[0;34m(self, download_total, downloaded, upload_total, uploaded)\u001b[0m\n\u001b[1;32m   1531\u001b[0m             \u001b[38;5;28mself\u001b[39m\u001b[38;5;241m.\u001b[39mjsessionid \u001b[38;5;241m=\u001b[39m [\u001b[38;5;124mu\u001b[39m\u001b[38;5;124m'\u001b[39m\u001b[38;5;124mCookie: \u001b[39m\u001b[38;5;132;01m%s\u001b[39;00m\u001b[38;5;124m'\u001b[39m \u001b[38;5;241m%\u001b[39m jsess[\u001b[38;5;241m0\u001b[39m]]\n\u001b[1;32m   1533\u001b[0m     \u001b[38;5;28;01mreturn\u001b[39;00m \u001b[38;5;28mself\u001b[39m\u001b[38;5;241m.\u001b[39mjsessionid\n\u001b[0;32m-> 1535\u001b[0m \u001b[38;5;28;01mdef\u001b[39;00m \u001b[38;5;21mupdate_progress\u001b[39m(\u001b[38;5;28mself\u001b[39m, download_total, downloaded, upload_total,\n\u001b[1;32m   1536\u001b[0m                     uploaded):\n\u001b[1;32m   1537\u001b[0m     \u001b[38;5;28;01mif\u001b[39;00m \u001b[38;5;28mself\u001b[39m\u001b[38;5;241m.\u001b[39mprogress \u001b[38;5;129;01mis\u001b[39;00m \u001b[38;5;129;01mnot\u001b[39;00m \u001b[38;5;28;01mNone\u001b[39;00m:\n\u001b[1;32m   1538\u001b[0m         \u001b[38;5;28mself\u001b[39m\u001b[38;5;241m.\u001b[39mtotal \u001b[38;5;241m=\u001b[39m \u001b[38;5;28mself\u001b[39m\u001b[38;5;241m.\u001b[39mbytes_prefix(download_total)\n",
      "\u001b[0;31mKeyboardInterrupt\u001b[0m: "
     ]
    },
    {
     "data": {
      "text/html": [
       "<div>\n",
       "<style scoped>\n",
       "    .dataframe tbody tr th:only-of-type {\n",
       "        vertical-align: middle;\n",
       "    }\n",
       "\n",
       "    .dataframe tbody tr th {\n",
       "        vertical-align: top;\n",
       "    }\n",
       "\n",
       "    .dataframe thead th {\n",
       "        text-align: right;\n",
       "    }\n",
       "</style>\n",
       "<table border=\"1\" class=\"dataframe\">\n",
       "  <thead>\n",
       "    <tr style=\"text-align: right;\">\n",
       "      <th></th>\n",
       "      <th>source</th>\n",
       "      <th>target</th>\n",
       "      <th>weight</th>\n",
       "      <th>p_value</th>\n",
       "    </tr>\n",
       "  </thead>\n",
       "  <tbody>\n",
       "    <tr>\n",
       "      <th>0</th>\n",
       "      <td>Androgen</td>\n",
       "      <td>Sgk1</td>\n",
       "      <td>12.816842</td>\n",
       "      <td>2.055063e-18</td>\n",
       "    </tr>\n",
       "    <tr>\n",
       "      <th>1</th>\n",
       "      <td>Androgen</td>\n",
       "      <td>Frk</td>\n",
       "      <td>4.700249</td>\n",
       "      <td>2.993022e-17</td>\n",
       "    </tr>\n",
       "    <tr>\n",
       "      <th>2</th>\n",
       "      <td>Androgen</td>\n",
       "      <td>Igf1</td>\n",
       "      <td>2.680118</td>\n",
       "      <td>1.275142e-14</td>\n",
       "    </tr>\n",
       "    <tr>\n",
       "      <th>3</th>\n",
       "      <td>Androgen</td>\n",
       "      <td>Hebp2</td>\n",
       "      <td>2.816945</td>\n",
       "      <td>9.404728e-12</td>\n",
       "    </tr>\n",
       "    <tr>\n",
       "      <th>4</th>\n",
       "      <td>Androgen</td>\n",
       "      <td>Man1a1</td>\n",
       "      <td>-6.214564</td>\n",
       "      <td>1.884635e-11</td>\n",
       "    </tr>\n",
       "    <tr>\n",
       "      <th>...</th>\n",
       "      <td>...</td>\n",
       "      <td>...</td>\n",
       "      <td>...</td>\n",
       "      <td>...</td>\n",
       "    </tr>\n",
       "    <tr>\n",
       "      <th>6605</th>\n",
       "      <td>p53</td>\n",
       "      <td>Traf3ip2</td>\n",
       "      <td>0.227087</td>\n",
       "      <td>6.498088e-01</td>\n",
       "    </tr>\n",
       "    <tr>\n",
       "      <th>6606</th>\n",
       "      <td>p53</td>\n",
       "      <td>Il22</td>\n",
       "      <td>0.172680</td>\n",
       "      <td>6.552287e-01</td>\n",
       "    </tr>\n",
       "    <tr>\n",
       "      <th>6607</th>\n",
       "      <td>p53</td>\n",
       "      <td>Il22b</td>\n",
       "      <td>0.172680</td>\n",
       "      <td>6.552287e-01</td>\n",
       "    </tr>\n",
       "    <tr>\n",
       "      <th>6608</th>\n",
       "      <td>p53</td>\n",
       "      <td>Hk1</td>\n",
       "      <td>0.381973</td>\n",
       "      <td>6.555113e-01</td>\n",
       "    </tr>\n",
       "    <tr>\n",
       "      <th>6609</th>\n",
       "      <td>p53</td>\n",
       "      <td>Rhobtb1</td>\n",
       "      <td>-0.468395</td>\n",
       "      <td>6.670520e-01</td>\n",
       "    </tr>\n",
       "  </tbody>\n",
       "</table>\n",
       "<p>6610 rows × 4 columns</p>\n",
       "</div>"
      ],
      "text/plain": [
       "        source    target     weight       p_value\n",
       "0     Androgen      Sgk1  12.816842  2.055063e-18\n",
       "1     Androgen       Frk   4.700249  2.993022e-17\n",
       "2     Androgen      Igf1   2.680118  1.275142e-14\n",
       "3     Androgen     Hebp2   2.816945  9.404728e-12\n",
       "4     Androgen    Man1a1  -6.214564  1.884635e-11\n",
       "...        ...       ...        ...           ...\n",
       "6605       p53  Traf3ip2   0.227087  6.498088e-01\n",
       "6606       p53      Il22   0.172680  6.552287e-01\n",
       "6607       p53     Il22b   0.172680  6.552287e-01\n",
       "6608       p53       Hk1   0.381973  6.555113e-01\n",
       "6609       p53   Rhobtb1  -0.468395  6.670520e-01\n",
       "\n",
       "[6610 rows x 4 columns]"
      ]
     },
     "execution_count": 6,
     "metadata": {},
     "output_type": "execute_result"
    }
   ],
   "source": [
    "progeny = dc.get_progeny(organism='mouse', top=500)\n",
    "progeny"
   ]
  },
  {
   "cell_type": "code",
   "execution_count": 23,
   "metadata": {},
   "outputs": [
    {
     "name": "stdout",
     "output_type": "stream",
     "text": [
      "Androgen\n",
      "EGFR\n",
      "Estrogen\n",
      "Hypoxia\n",
      "JAK-STAT\n",
      "MAPK\n",
      "NFkB\n",
      "PI3K\n",
      "TGFb\n",
      "TNFa\n",
      "Trail\n",
      "VEGF\n",
      "WNT\n",
      "p53\n"
     ]
    }
   ],
   "source": [
    "for i in progeny.source.unique():\n",
    "    print(i)"
   ]
  },
  {
   "cell_type": "code",
   "execution_count": 27,
   "metadata": {},
   "outputs": [],
   "source": [
    "progeny.to_csv('./progeny.csv')\n"
   ]
  }
 ],
 "metadata": {
  "kernelspec": {
   "display_name": "scanpy",
   "language": "python",
   "name": "python3"
  },
  "language_info": {
   "codemirror_mode": {
    "name": "ipython",
    "version": 3
   },
   "file_extension": ".py",
   "mimetype": "text/x-python",
   "name": "python",
   "nbconvert_exporter": "python",
   "pygments_lexer": "ipython3",
   "version": "3.12.5"
  }
 },
 "nbformat": 4,
 "nbformat_minor": 2
}
